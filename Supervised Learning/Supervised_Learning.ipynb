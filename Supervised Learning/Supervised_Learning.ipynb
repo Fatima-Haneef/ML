{
 "cells": [
  {
   "cell_type": "code",
   "execution_count": null,
   "id": "067d429b",
   "metadata": {},
   "outputs": [
    {
     "name": "stdout",
     "output_type": "stream",
     "text": [
      "Predicted test score for studying 6 hours: 79.50\n"
     ]
    }
   ],
   "source": [
    "X = [1, 2, 3, 4, 5]\n",
    "y = [40, 50, 60, 65, 70]\n",
    "\n",
    "# Calculate means\n",
    "x_mean = sum(X) / len(X)\n",
    "y_mean = sum(y) / len(y)\n",
    "\n",
    "# Calculate slope (m) and intercept (b) for y = mx + b\n",
    "numerator = sum((X[i] - x_mean) * (y[i] - y_mean) for i in range(len(X)))\n",
    "denominator = sum((X[i] - x_mean) ** 2 for i in range(len(X)))\n",
    "m = numerator / denominator\n",
    "b = y_mean - m * x_mean\n",
    "\n",
    "# Predict score for 6 hours of study\n",
    "x_new = 6\n",
    "y_pred = m * x_new + b\n",
    "\n",
    "print(f\"Predicted test score for studying {x_new} hours: {y_pred:.2f}\")\n",
    "\n"
   ]
  }
 ],
 "metadata": {
  "kernelspec": {
   "display_name": "Python 3",
   "language": "python",
   "name": "python3"
  },
  "language_info": {
   "codemirror_mode": {
    "name": "ipython",
    "version": 3
   },
   "file_extension": ".py",
   "mimetype": "text/x-python",
   "name": "python",
   "nbconvert_exporter": "python",
   "pygments_lexer": "ipython3",
   "version": "3.13.5"
  }
 },
 "nbformat": 4,
 "nbformat_minor": 5
}
