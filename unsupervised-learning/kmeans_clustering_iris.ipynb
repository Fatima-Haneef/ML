{
 "cells": [
  {
   "cell_type": "code",
   "execution_count": null,
   "id": "e91acbaa",
   "metadata": {},
   "outputs": [],
   "source": [
    "from sklearn.datasets import load_digits\n",
    "from sklearn.cluster import KMeans\n",
    "from sklearn.model_selection import train_test_split\n",
    "import tensorflow as tf\n",
    "from tensorflow.keras.layers import Dense\n",
    "\n",
    "digits = load_digits()\n",
    "X = digits.data / 16.0\n",
    "\n",
    "input_dim = X.shape[1]\n",
    "encoding_dim = 32\n",
    "\n",
    "input_layer = tf.keras.Input(shape=(input_dim,))\n",
    "encoded = Dense(encoding_dim, activation='relu')(input_layer)\n",
    "decoded = Dense(input_dim, activation='sigmoid')(encoded)\n",
    "\n",
    "autoencoder = tf.keras.Model(inputs=input_layer, outputs=decoded)\n",
    "autoencoder.compile(optimizer='adam', loss='mse')\n",
    "autoencoder.fit(X, X, epochs=10, batch_size=64, shuffle=True)\n",
    "\n",
    "encoder = tf.keras.Model(inputs=input_layer, outputs=encoded)\n",
    "features = encoder.predict(X)\n",
    "\n",
    "kmeans = KMeans(n_clusters=10, random_state=0).fit(features)\n",
    "print(\"Cluster labels:\", kmeans.labels_[:20])  # Show first 20 labels\n"
   ]
  }
 ],
 "metadata": {
  "kernelspec": {
   "display_name": "Python 3",
   "language": "python",
   "name": "python3"
  },
  "language_info": {
   "codemirror_mode": {
    "name": "ipython",
    "version": 3
   },
   "file_extension": ".py",
   "mimetype": "text/x-python",
   "name": "python",
   "nbconvert_exporter": "python",
   "pygments_lexer": "ipython3",
   "version": "3.13.5"
  }
 },
 "nbformat": 4,
 "nbformat_minor": 5
}
